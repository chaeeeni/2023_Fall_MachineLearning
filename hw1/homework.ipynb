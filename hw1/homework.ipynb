{
 "cells": [
  {
   "cell_type": "markdown",
   "metadata": {
    "id": "PleGiqdIna4n"
   },
   "source": [
    "# Homework Assignment 1"
   ]
  },
  {
   "cell_type": "code",
   "execution_count": 1,
   "metadata": {
    "id": "NMmNIWoKna4q"
   },
   "outputs": [],
   "source": [
    "import numpy as np"
   ]
  },
  {
   "cell_type": "markdown",
   "metadata": {
    "id": "YQvfdpLxna4r"
   },
   "source": [
    "#### Problem 2. Evaluate the below algebraic expressions."
   ]
  },
  {
   "cell_type": "code",
   "execution_count": 6,
   "metadata": {
    "id": "PUt8IeNvna4r"
   },
   "outputs": [
    {
     "name": "stdout",
     "output_type": "stream",
     "text": [
      "[[2 2]\n",
      " [3 5]]\n"
     ]
    }
   ],
   "source": [
    "# Problem 0 - example\n",
    "A = np.array([[1, 2], [3, 4]])\n",
    "B = np.array([[1, 0], [0, 1]])\n",
    "sol = A + B\n",
    "print(sol)"
   ]
  },
  {
   "cell_type": "code",
   "execution_count": 7,
   "metadata": {
    "id": "4fRAVRSAna4s"
   },
   "outputs": [
    {
     "name": "stdout",
     "output_type": "stream",
     "text": [
      "answer : \n",
      "[[6 3 6]\n",
      " [7 7 8]]\n"
     ]
    }
   ],
   "source": [
    "# Problem 2 (a)\n",
    "A = np.array([[1, 2, 3], [4, 5, 6]])\n",
    "B = np.array([[5, 1, 3], [3, 2, 2]])\n",
    "ans2a = A+B\n",
    "print('answer : ')\n",
    "print(ans2a)"
   ]
  },
  {
   "cell_type": "code",
   "execution_count": 8,
   "metadata": {
    "id": "VVM4JMumna4s"
   },
   "outputs": [
    {
     "name": "stdout",
     "output_type": "stream",
     "text": [
      "answer : \n",
      "[[2. 1. 5.]\n",
      " [0. 2. 1.]]\n"
     ]
    }
   ],
   "source": [
    "# Problem 2 (b)\n",
    "A = np.array([[3, 1, 3], [1, 2, 2]])\n",
    "B = np.array([[8, 2, 2], [4, 4, 6]])\n",
    "ans2b = 2*A - 0.5*B\n",
    "print('answer : ')\n",
    "print(ans2b)"
   ]
  },
  {
   "cell_type": "code",
   "execution_count": 9,
   "metadata": {
    "id": "mDyxCm9Zna4s"
   },
   "outputs": [
    {
     "name": "stdout",
     "output_type": "stream",
     "text": [
      "answer : \n",
      "[[2. 3. 3.]\n",
      " [3. 3. 2.]]\n"
     ]
    }
   ],
   "source": [
    "# Problem 2 (c)\n",
    "A = np.array([[3, 1, 3], [1, 2, 3]])\n",
    "B = np.array([[1, 5, 3], [5, 4, 1]])\n",
    "ans2c = 0.5*(A+B)\n",
    "print('answer : ')\n",
    "print(ans2c)"
   ]
  },
  {
   "cell_type": "code",
   "execution_count": 11,
   "metadata": {
    "id": "Bc7tbzB5na4t"
   },
   "outputs": [
    {
     "name": "stdout",
     "output_type": "stream",
     "text": [
      "answer : \n",
      "[[ 4  8]\n",
      " [ 5 10]]\n"
     ]
    }
   ],
   "source": [
    "# Problem 2 (d)\n",
    "A = np.array([[3, 1, 2], [3, 2, 4]])\n",
    "B = np.array([[1, 1, 0], [2, 0, 1]])\n",
    "transB = np.transpose(B)\n",
    "ans2d = A.dot(transB)\n",
    "print('answer : ')\n",
    "print(ans2d)"
   ]
  },
  {
   "cell_type": "code",
   "execution_count": 12,
   "metadata": {
    "id": "UZ9S2Hvdna4t"
   },
   "outputs": [
    {
     "name": "stdout",
     "output_type": "stream",
     "text": [
      "answer : \n",
      "12\n"
     ]
    }
   ],
   "source": [
    "# Problem 2 (e)\n",
    "A = np.array([[1, 3, 2], [6, 4, 5], [9, 8, 7]])\n",
    "ans2e = np.trace(A)\n",
    "print('answer : ')\n",
    "print(ans2e)"
   ]
  },
  {
   "cell_type": "code",
   "execution_count": 13,
   "metadata": {
    "id": "iT-1kjkRna4u"
   },
   "outputs": [
    {
     "name": "stdout",
     "output_type": "stream",
     "text": [
      "answer : \n",
      "[[ 5.  2.]\n",
      " [-7. -3.]]\n"
     ]
    }
   ],
   "source": [
    "# Problem 2 (f)\n",
    "A = np.array([[3, 2], [-7, -5]])\n",
    "ans2f = np.linalg.inv(A)\n",
    "print('answer : ')\n",
    "print(ans2f)"
   ]
  },
  {
   "cell_type": "code",
   "execution_count": 14,
   "metadata": {
    "id": "ApbWoG_Ana4u"
   },
   "outputs": [
    {
     "name": "stdout",
     "output_type": "stream",
     "text": [
      "answer : \n",
      "[[ 9.  3.  5.]\n",
      " [ 1.  1.  0.]\n",
      " [-1. -0. -1.]]\n"
     ]
    }
   ],
   "source": [
    "# Problem 2 (g)\n",
    "A = np.array([[1, -3, 5], [-1, 4, -5], [-1, 3, -6]])\n",
    "ans2g = np.linalg.inv(A)\n",
    "print('answer : ')\n",
    "print(ans2g)"
   ]
  },
  {
   "cell_type": "code",
   "execution_count": 16,
   "metadata": {
    "id": "GzmwPtcMna4u"
   },
   "outputs": [
    {
     "name": "stdout",
     "output_type": "stream",
     "text": [
      "answer : \n",
      "-1.0000000000000004\n"
     ]
    }
   ],
   "source": [
    "# Problem 2 (h)\n",
    "A = np.array([[1, 3], [3, 8]])\n",
    "ans2h = np.linalg.det(A)\n",
    "print('answer : ')\n",
    "print(ans2h)"
   ]
  },
  {
   "cell_type": "code",
   "execution_count": 11,
   "metadata": {
    "id": "55IB7mQmna4u"
   },
   "outputs": [],
   "source": [
    "# Problem 2 (i)\n"
   ]
  },
  {
   "cell_type": "markdown",
   "metadata": {
    "id": "bHntpr5Sna4u"
   },
   "source": [
    "#### Problem 3. Solve the following systems of linear equations."
   ]
  },
  {
   "cell_type": "code",
   "execution_count": 17,
   "metadata": {
    "id": "MX40ICdana4u"
   },
   "outputs": [
    {
     "name": "stdout",
     "output_type": "stream",
     "text": [
      "[2. 1.]\n",
      "x =  2.0\n",
      "y =  1.0\n"
     ]
    }
   ],
   "source": [
    "# Problem 3 (a)\n",
    "# 2x + y = 5\n",
    "# -x + 3y = 1\n",
    "A = np.array([[2, 1], [-1, 3]])\n",
    "B = np.array([5, 1])\n",
    "\n",
    "ans3a = np.linalg.solve(A, B)\n",
    "print(ans3a)\n",
    "print(\"x = \", ans3a[0])\n",
    "print(\"y = \", ans3a[1])"
   ]
  },
  {
   "cell_type": "code",
   "execution_count": 18,
   "metadata": {
    "id": "zBbc7YEwna4v"
   },
   "outputs": [
    {
     "name": "stdout",
     "output_type": "stream",
     "text": [
      "[-0.5 -0.5  0.5]\n",
      "x =  -0.5\n",
      "y =  -0.5000000000000001\n",
      "z =  0.5\n"
     ]
    }
   ],
   "source": [
    "# Problem 3 (b)\n",
    "# 5x + y - 2z = -4\n",
    "# 2x + y + 5z = 1\n",
    "# x - y + 2z = 1\n",
    "\n",
    "A = np.array([[5, 1, -2], [2, 1, 5], [1, -1, 2]])\n",
    "B = np.array([-4, 1, 1])\n",
    "\n",
    "ans3b = np.linalg.solve(A, B)\n",
    "print(ans3b)\n",
    "print(\"x = \", ans3b[0])\n",
    "print(\"y = \", ans3b[1])\n",
    "print(\"z = \", ans3b[2])"
   ]
  },
  {
   "cell_type": "markdown",
   "metadata": {
    "id": "8-GzGi-Ona4v"
   },
   "source": [
    "#### Problem 6. Eigen value decomposition"
   ]
  },
  {
   "cell_type": "code",
   "execution_count": 19,
   "metadata": {
    "id": "NOV-FjTgna4v"
   },
   "outputs": [
    {
     "name": "stdout",
     "output_type": "stream",
     "text": [
      "Eigenvalues:\n",
      "[-4.  1.]\n",
      "\n",
      "Eigenvectors:\n",
      "[[-0.83205029 -0.70710678]\n",
      " [ 0.5547002  -0.70710678]]\n"
     ]
    }
   ],
   "source": [
    "# Problem 6 (a)\n",
    "A = np.array([[-2, 3], [2, -1]])\n",
    "eigenvalues, eigenvectors = np.linalg.eig(A)\n",
    "print(\"Eigenvalues:\")\n",
    "print(eigenvalues)\n",
    "print(\"\\nEigenvectors:\")\n",
    "print(eigenvectors)"
   ]
  },
  {
   "cell_type": "code",
   "execution_count": 20,
   "metadata": {
    "id": "eRdRw8MAna4v"
   },
   "outputs": [
    {
     "name": "stdout",
     "output_type": "stream",
     "text": [
      "Eigenvalues:\n",
      "[-0.23606798  4.23606798]\n",
      "\n",
      "Eigenvectors:\n",
      "[[-0.85065081  0.52573111]\n",
      " [-0.52573111 -0.85065081]]\n"
     ]
    }
   ],
   "source": [
    "# Problem 6 (b)\n",
    "A = np.array([[1, -2], [-2, 3]])\n",
    "eigenvalues, eigenvectors = np.linalg.eig(A)\n",
    "print(\"Eigenvalues:\")\n",
    "print(eigenvalues)\n",
    "print(\"\\nEigenvectors:\")\n",
    "print(eigenvectors)"
   ]
  },
  {
   "cell_type": "code",
   "execution_count": 21,
   "metadata": {
    "id": "jD1ft9hhnfOP"
   },
   "outputs": [
    {
     "name": "stdout",
     "output_type": "stream",
     "text": [
      "Eigenvalues:\n",
      "[-4.  5.]\n",
      "\n",
      "Eigenvectors:\n",
      "[[0.         0.9486833 ]\n",
      " [1.         0.31622777]]\n"
     ]
    }
   ],
   "source": [
    "# Problem 6 (c)\n",
    "A = np.array([[5, 0], [3, -4]])\n",
    "eigenvalues, eigenvectors = np.linalg.eig(A)\n",
    "print(\"Eigenvalues:\")\n",
    "print(eigenvalues)\n",
    "print(\"\\nEigenvectors:\")\n",
    "print(eigenvectors)"
   ]
  },
  {
   "cell_type": "code",
   "execution_count": 22,
   "metadata": {
    "id": "PCnBWyTtnhVn"
   },
   "outputs": [
    {
     "name": "stdout",
     "output_type": "stream",
     "text": [
      "Eigenvalues:\n",
      "[4. 1. 3.]\n",
      "\n",
      "Eigenvectors:\n",
      "[[ 0.          1.          0.57735027]\n",
      " [ 0.          0.          0.57735027]\n",
      " [ 1.          0.         -0.57735027]]\n"
     ]
    }
   ],
   "source": [
    "# Problem 6 (d)\n",
    "A = np.array([[1, 2, 0], [0, 3, 0], [0, 1, 4]])\n",
    "eigenvalues, eigenvectors = np.linalg.eig(A)\n",
    "print(\"Eigenvalues:\")\n",
    "print(eigenvalues)\n",
    "print(\"\\nEigenvectors:\")\n",
    "print(eigenvectors)"
   ]
  },
  {
   "cell_type": "code",
   "execution_count": null,
   "metadata": {},
   "outputs": [],
   "source": []
  }
 ],
 "metadata": {
  "colab": {
   "collapsed_sections": [],
   "provenance": []
  },
  "kernelspec": {
   "display_name": "Python 3 (ipykernel)",
   "language": "python",
   "name": "python3"
  },
  "language_info": {
   "codemirror_mode": {
    "name": "ipython",
    "version": 3
   },
   "file_extension": ".py",
   "mimetype": "text/x-python",
   "name": "python",
   "nbconvert_exporter": "python",
   "pygments_lexer": "ipython3",
   "version": "3.9.0rc2"
  }
 },
 "nbformat": 4,
 "nbformat_minor": 4
}
